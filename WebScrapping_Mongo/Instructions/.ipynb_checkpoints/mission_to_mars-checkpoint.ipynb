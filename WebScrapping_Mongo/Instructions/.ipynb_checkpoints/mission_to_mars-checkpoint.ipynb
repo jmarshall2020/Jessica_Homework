{
 "cells": [
  {
   "cell_type": "code",
   "execution_count": null,
   "metadata": {},
   "outputs": [],
   "source": [
    "import requests \n",
    "from bs4 import BeautifulSoup \n",
    "import requests \n",
    "import pandas as pd\n",
    "from splinter import Browser\n",
    "import time\n",
    "import ssl"
   ]
  },
  {
   "cell_type": "code",
   "execution_count": null,
   "metadata": {},
   "outputs": [],
   "source": [
    "#executable_path = {'executable_path': '/usr/local/bin/chromedriver'}\n",
    "#browser = Browser('chrome', **executable_path, headless=False)"
   ]
  },
  {
   "cell_type": "code",
   "execution_count": null,
   "metadata": {},
   "outputs": [],
   "source": [
    "browser = Browser(\"chrome\")\n",
    "#browser = Browser(\"chrome\", executable_path=\"chromedriver\", headless=True)\n",
    "mars = {}"
   ]
  },
  {
   "cell_type": "code",
   "execution_count": null,
   "metadata": {},
   "outputs": [],
   "source": [
    "#Mars URL Scraping\n",
    "url = \"https://mars.nasa.gov/news/\"\n",
    "browser.visit(\"url\")\n",
    "time.sleep(2)\n",
    "\n",
    "html_mars = browser.html\n",
    "soup_mars = bs(html_mars, 'html.parser')"
   ]
  },
  {
   "cell_type": "code",
   "execution_count": null,
   "metadata": {},
   "outputs": [],
   "source": [
    "#News Article\n",
    "news_title = soup_mars.find(\"div\", class_=\"content_tile\").text\n",
    "news_p = soup_mars.find('div', class_=\"article_teaser_bodey\").text\n",
    "print(news_title)\n",
    "print(news_p)"
   ]
  },
  {
   "cell_type": "code",
   "execution_count": null,
   "metadata": {},
   "outputs": [],
   "source": [
    "#JPL URL Scraping\n",
    "url_jpl = 'https://www.jpl.nasa.gov/spaceimages/?search=&category=Mars'\n",
    "browser.visit(url_jpl)\n",
    "time.sleep(2)\n",
    "\n",
    "html_jpl = browser.html\n",
    "soup_jpl = bs(html_jpl, 'html.parser')"
   ]
  },
  {
   "cell_type": "code",
   "execution_count": null,
   "metadata": {},
   "outputs": [],
   "source": [
    "featured_image_url = soup_jpl.find_all(\"footer\")\n",
    "test=featured_image_url[0]\n",
    "s = str(test)\n",
    "start = 'data-link=\"/spaceimages/details.php?id='\n",
    "end = '\" data-title'\n",
    "startindex = s.find(start)+len(start)\n",
    "endindex = s.find(end)\n",
    "file = s[startindex:endindex]"
   ]
  },
  {
   "cell_type": "code",
   "execution_count": null,
   "metadata": {},
   "outputs": [],
   "source": [
    "url_jpl_hires = 'https://www.jpl.nasa.gov/spaceimages/images/largesize/'+file+'_hires.jpg'"
   ]
  },
  {
   "cell_type": "code",
   "execution_count": null,
   "metadata": {},
   "outputs": [],
   "source": [
    "#Mars Weather - URL Scraping\n",
    "url_twitter = 'https://twitter.com/marswxreport?lang=en'\n",
    "browser.visit(url_twitter)\n",
    "time.sleep(2)\n",
    "\n",
    "html_twitter = browser.html\n",
    "soup_twitter = bs(html_twitter, 'html.parser')"
   ]
  },
  {
   "cell_type": "code",
   "execution_count": null,
   "metadata": {},
   "outputs": [],
   "source": [
    "mars_weather = soup_twitter.find(\"p\", class_=\"TweetTextSize TweetTextSize--normal js-tweet-text tweet-text\").text"
   ]
  },
  {
   "cell_type": "code",
   "execution_count": null,
   "metadata": {},
   "outputs": [],
   "source": [
    "#Mars Facts\n",
    "mars_facts = 'https://space-facts.com/mars/'"
   ]
  },
  {
   "cell_type": "code",
   "execution_count": null,
   "metadata": {},
   "outputs": [],
   "source": [
    "d = pd.read_html(mars_facts)\n",
    "facts = pd.DataFrame(d[0])\n",
    "facts.columns = ['Fields', 'Values']\n",
    "facts_html = facts.to_html()"
   ]
  },
  {
   "cell_type": "code",
   "execution_count": null,
   "metadata": {},
   "outputs": [],
   "source": [
    "#Mars Hemis - URL Scraping\n",
    "url_hemis = 'https://astrogeology.usgs.gov/search/results?q=hemisphere+enhanced&k1=target&v1=Mars'\n",
    "browser.visit(url_hemis)\n",
    "time.sleep(2)\n",
    "\n",
    "html_hemis = browser.html\n",
    "soup_hemis = bs(html_hemis, 'html.parser')"
   ]
  },
  {
   "cell_type": "code",
   "execution_count": null,
   "metadata": {},
   "outputs": [],
   "source": []
  }
 ],
 "metadata": {
  "kernelspec": {
   "display_name": "Python 3",
   "language": "python",
   "name": "python3"
  },
  "language_info": {
   "codemirror_mode": {
    "name": "ipython",
    "version": 3
   },
   "file_extension": ".py",
   "mimetype": "text/x-python",
   "name": "python",
   "nbconvert_exporter": "python",
   "pygments_lexer": "ipython3",
   "version": "3.7.3"
  }
 },
 "nbformat": 4,
 "nbformat_minor": 2
}
