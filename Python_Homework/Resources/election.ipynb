{
 "cells": [
  {
   "cell_type": "code",
   "execution_count": 5,
   "metadata": {},
   "outputs": [],
   "source": [
    "import csv\n",
    "import os"
   ]
  },
  {
   "cell_type": "code",
   "execution_count": 4,
   "metadata": {},
   "outputs": [
    {
     "name": "stdout",
     "output_type": "stream",
     "text": [
      "['Khan', 'Correy', 'Li', \"O'Tooley\"]\n",
      "{'Khan': 1, 'Correy': 1, 'Li': 1, \"O'Tooley\": 1}\n",
      "3521001\n"
     ]
    }
   ],
   "source": [
    "csvpath = os.path.join('election_data.csv')\n",
    "\n",
    "#csvpath='..Resources/election_data.csv' - didn't work \n",
    "\n",
    "with open(csvpath, newline='') as handler:\n",
    "    csvreader = csv.reader(handler, delimiter= ',')\n",
    "    next(csvreader)\n",
    "    candiate_name= []\n",
    "    total_count = 0\n",
    "    \n",
    "    candidates= {}\n",
    "    \n",
    "    for row in csvreader:\n",
    "        total_count= total_count+1\n",
    "        if row[2] not in candiate_name:\n",
    "            candiate_name.append(row[2])\n",
    "            candidates[row[2]]=1 \n",
    "        \n",
    "        \n",
    "    print(candiate_name)\n",
    "    print(candidates)\n",
    "        #print(row)\n",
    "        \n",
    "\n",
    "    print(total_count)\n",
    "    #print(candiate_name[:50])\n",
    "    "
   ]
  },
  {
   "cell_type": "code",
   "execution_count": null,
   "metadata": {},
   "outputs": [],
   "source": []
  },
  {
   "cell_type": "code",
   "execution_count": null,
   "metadata": {},
   "outputs": [],
   "source": []
  },
  {
   "cell_type": "code",
   "execution_count": null,
   "metadata": {},
   "outputs": [],
   "source": []
  }
 ],
 "metadata": {
  "kernelspec": {
   "display_name": "Python 3",
   "language": "python",
   "name": "python3"
  },
  "language_info": {
   "codemirror_mode": {
    "name": "ipython",
    "version": 3
   },
   "file_extension": ".py",
   "mimetype": "text/x-python",
   "name": "python",
   "nbconvert_exporter": "python",
   "pygments_lexer": "ipython3",
   "version": "3.7.3"
  }
 },
 "nbformat": 4,
 "nbformat_minor": 2
}
