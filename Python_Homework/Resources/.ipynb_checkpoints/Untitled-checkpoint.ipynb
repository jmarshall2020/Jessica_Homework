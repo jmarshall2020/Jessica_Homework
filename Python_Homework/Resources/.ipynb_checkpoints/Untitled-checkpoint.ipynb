{
 "cells": [
  {
   "cell_type": "code",
   "execution_count": 1,
   "metadata": {},
   "outputs": [],
   "source": [
    "import os\n",
    "import csv\n",
    "import pandas as pd\n",
    "\n",
    "csvpath ='../Resources/budget_data.csv'\n",
    "file_to_output = os.path.join(\"analysis\", \"main_output.txt\")\n",
    "\n",
    "total_months = 0\n",
    "total_net = 0\n",
    "sum_of_list = 0\n",
    "month_of_change = []\n",
    "net_change_list = []\n",
    "greatest_increase = [\"\", 0]\n",
    "greatest_decrease = [\"\", 9999999999999999999]"
   ]
  },
  {
   "cell_type": "code",
   "execution_count": 2,
   "metadata": {},
   "outputs": [
    {
     "ename": "IndentationError",
     "evalue": "unexpected indent (<ipython-input-2-5d1bfe723121>, line 17)",
     "output_type": "error",
     "traceback": [
      "\u001b[0;36m  File \u001b[0;32m\"<ipython-input-2-5d1bfe723121>\"\u001b[0;36m, line \u001b[0;32m17\u001b[0m\n\u001b[0;31m    total_net = total_net + int(row[1])\u001b[0m\n\u001b[0m    ^\u001b[0m\n\u001b[0;31mIndentationError\u001b[0m\u001b[0;31m:\u001b[0m unexpected indent\n"
     ]
    }
   ],
   "source": [
    "with open (csvpath, newline='') as handler:\n",
    "    csvreader = csv.reader(handler, delimiter=\",\")\n",
    "\n",
    "    head = next(csvreader)\n",
    "\n",
    "    first_row = next(csvreader)\n",
    "    total_months = total_months + 1\n",
    "    total_net = total_net + int(first_row[1])\n",
    "    prev_net = int(first_row[1])\n",
    "\n",
    "\n",
    "  \n",
    "\n",
    "    for row in csvreader:\n",
    "       # Track the total\n",
    "       total_months = total_months + 1\n",
    "        total_net = total_net + int(row[1])\n",
    "       # Track the net change\n",
    "       net_change = int(row[1]) - prev_net\n",
    "           prev_net = int(row[1])\n",
    "               net_change_list = net_change_list + [net_change]\n",
    "                   month_of_change = month_of_change + [row[0]]\n",
    "\n",
    "\n",
    "\n",
    "       #calculating greatest increase/decrease\n",
    "       if net_change > greatest_increase[1]:\n",
    "               greatest_increase[0] = row[0]\n",
    "                   greatest_increase[1] = net_change\n",
    "       # Calculate the greatest decrease\n",
    "       if net_change < greatest_decrease[1]:\n",
    "               greatest_decrease[0] = row[0]\n",
    "                   greatest_decrease[1] = net_change\n",
    "\n",
    "net_monthly_avg = sum(net_change_list) / len(net_change_list)"
   ]
  },
  {
   "cell_type": "code",
   "execution_count": null,
   "metadata": {},
   "outputs": [],
   "source": [
    "print(total_months)\n",
    "print(sum_of_list)\n",
    "print(total_net)\n",
    "print(net_monthly_avg)\n",
    "print(greatest_increase[0],greatest_increase[1])\n",
    "print(greatest_decrease[0],greatest_decrease[1])"
   ]
  },
  {
   "cell_type": "code",
   "execution_count": null,
   "metadata": {},
   "outputs": [],
   "source": [
    "output = (\n",
    "   f\"\\nFinancial Analysis\\n\"\n",
    "   f\"----------------------------\\n\"\n",
    "   f\"Total Months: {total_months}\\n\"\n",
    "   f\"Total: ${total_net}\\n\"\n",
    "   f\"Average  Change: ${net_monthly_avg:.2f}\\n\"\n",
    "   f\"Greatest Increase in Profits: {greatest_increase[0]} (${greatest_increase[1]})\\n\"\n",
    "   f\"Greatest Decrease in Profits: {greatest_decrease[0]} (${greatest_decrease[1]})\\n\")\n",
    "# Print the output (to terminal)\n",
    "print(output)\n",
    "# Export the results to text file\n",
    "with open(file_to_output, \"w\") as txt_file:\n",
    "   txt_file.write(output)"
   ]
  },
  {
   "cell_type": "code",
   "execution_count": null,
   "metadata": {},
   "outputs": [],
   "source": []
  }
 ],
 "metadata": {
  "kernelspec": {
   "display_name": "Python 3",
   "language": "python",
   "name": "python3"
  },
  "language_info": {
   "codemirror_mode": {
    "name": "ipython",
    "version": 3
   },
   "file_extension": ".py",
   "mimetype": "text/x-python",
   "name": "python",
   "nbconvert_exporter": "python",
   "pygments_lexer": "ipython3",
   "version": "3.7.3"
  }
 },
 "nbformat": 4,
 "nbformat_minor": 2
}
